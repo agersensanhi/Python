{
 "cells": [
  {
   "cell_type": "code",
   "execution_count": 2,
   "metadata": {},
   "outputs": [
    {
     "name": "stdout",
     "output_type": "stream",
     "text": [
      "A\n",
      "B\n"
     ]
    }
   ],
   "source": [
    "marks = 75\n",
    "if marks >= 90:\n",
    "    print(\"A+\")\n",
    "if marks >= 70:\n",
    "    print(\"A\")\n",
    "if marks >= 50:\n",
    "    print(\"B\")\n",
    "if marks < 50:\n",
    "    print(\"Fail\")            "
   ]
  },
  {
   "cell_type": "code",
   "execution_count": 3,
   "metadata": {},
   "outputs": [
    {
     "name": "stdout",
     "output_type": "stream",
     "text": [
      "A\n"
     ]
    }
   ],
   "source": [
    "marks = 75\n",
    "if marks >= 90:\n",
    "    print(\"A+\")\n",
    "elif marks >= 70:\n",
    "    print(\"A\")\n",
    "elif  marks >= 50:\n",
    "    print(\"B\")\n",
    "elif marks < 50:\n",
    "    print(\"Fail\")\n",
    "else:\n",
    "    print(\"invalid marks\")     "
   ]
  },
  {
   "cell_type": "code",
   "execution_count": 4,
   "metadata": {},
   "outputs": [
    {
     "name": "stdout",
     "output_type": "stream",
     "text": [
      "person is eligible to vote\n"
     ]
    }
   ],
   "source": [
    "age = 34 \n",
    "if age >= 18:\n",
    "    print(\"person is eligible to vote\")\n",
    "else:\n",
    "    print(\"person is not eligible to vote\")        \n"
   ]
  },
  {
   "cell_type": "code",
   "execution_count": null,
   "metadata": {},
   "outputs": [],
   "source": [
    "\n",
    "# Questions\n",
    "# check whether a no. is positive or negative\n",
    "# check whether a no. is even or odd\n",
    "# check whether a traingle equilateral or isoceles\n",
    "# take a list of 10 apps and check whether \"zomato\" is in the list or not\n",
    "# enter a character by user and check whether it is a vowel or not\n",
    "# check whether two sides entered by user are equal or not\n"
   ]
  },
  {
   "cell_type": "code",
   "execution_count": 2,
   "metadata": {},
   "outputs": [
    {
     "name": "stdout",
     "output_type": "stream",
     "text": [
      "-5 negative\n"
     ]
    }
   ],
   "source": [
    "num = int(input(\"enter a number\"))\n",
    "if num>0:\n",
    "    print(num, \"positive\")\n",
    "else:\n",
    "    print(num, \"negative\")    "
   ]
  },
  {
   "cell_type": "code",
   "execution_count": null,
   "metadata": {},
   "outputs": [],
   "source": []
  }
 ],
 "metadata": {
  "kernelspec": {
   "display_name": "base",
   "language": "python",
   "name": "python3"
  },
  "language_info": {
   "codemirror_mode": {
    "name": "ipython",
    "version": 3
   },
   "file_extension": ".py",
   "mimetype": "text/x-python",
   "name": "python",
   "nbconvert_exporter": "python",
   "pygments_lexer": "ipython3",
   "version": "3.12.4"
  }
 },
 "nbformat": 4,
 "nbformat_minor": 2
}
